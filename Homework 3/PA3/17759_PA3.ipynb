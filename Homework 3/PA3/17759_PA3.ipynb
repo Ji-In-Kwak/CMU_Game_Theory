{
  "cells": [
    {
      "cell_type": "code",
      "execution_count": null,
      "metadata": {
        "id": "JT_LYPYsIfyM"
      },
      "outputs": [],
      "source": [
        "from google.colab import drive\n",
        "\n",
        "drive.mount('/content/gdrive')"
      ]
    },
    {
      "cell_type": "code",
      "execution_count": null,
      "metadata": {
        "id": "pR6E2BKQ5T0Z"
      },
      "outputs": [],
      "source": [
        "%cd /content/gdrive/My Drive/PA3"
      ]
    },
    {
      "cell_type": "markdown",
      "metadata": {
        "id": "POjVTaR-tA9g"
      },
      "source": [
        "**Installation**"
      ]
    },
    {
      "cell_type": "code",
      "execution_count": null,
      "metadata": {
        "id": "-bkoUFWkDJDt"
      },
      "outputs": [],
      "source": [
        "!pip install torch torchvision torchaudio --extra-index-url https://download.pytorch.org/whl/cu116 > /dev/null 2>&1 \n",
        "!pip install matplotlib numpy > /dev/null 2>&1 "
      ]
    },
    {
      "cell_type": "markdown",
      "metadata": {
        "id": "si8jMbwMPQ5P"
      },
      "source": [
        "## FGSM Attack"
      ]
    },
    {
      "cell_type": "code",
      "execution_count": null,
      "metadata": {
        "id": "LrOr_AW7EcFm"
      },
      "outputs": [],
      "source": [
        "%cd /content/gdrive/My Drive/PA3\n",
        "!python aml_fgsm.py"
      ]
    },
    {
      "cell_type": "code",
      "execution_count": null,
      "metadata": {
        "id": "8sU7-hyEJlb-"
      },
      "outputs": [],
      "source": [
        "from IPython.display import Image\n",
        "display(Image('aml_fgsm_acc.png', width=500))\n",
        "display(Image('aml_fgsm_ex.png', width=500))"
      ]
    },
    {
      "cell_type": "markdown",
      "metadata": {
        "id": "dr8QFRE9s8qP"
      },
      "source": [
        "## PGD Attack"
      ]
    },
    {
      "cell_type": "code",
      "execution_count": null,
      "metadata": {
        "id": "8WPYvcjVTZaL"
      },
      "outputs": [],
      "source": [
        "%cd /content/gdrive/My Drive/PA3\n",
        "!python aml_pgd.py"
      ]
    },
    {
      "cell_type": "code",
      "execution_count": null,
      "metadata": {
        "id": "jOTEA9r9PqNe"
      },
      "outputs": [],
      "source": [
        "from IPython.display import Image\n",
        "display(Image('aml_pgd_acc.png', width=500))\n",
        "display(Image('aml_pgd_ex.png', width=500))"
      ]
    },
    {
      "cell_type": "markdown",
      "source": [
        "## EA Attack"
      ],
      "metadata": {
        "id": "l8IbGGNPrQ9E"
      }
    },
    {
      "cell_type": "code",
      "source": [
        "%cd /content/gdrive/My Drive/PA3\n",
        "!python aml_ea.py"
      ],
      "metadata": {
        "id": "mhdD20X5rTSZ"
      },
      "execution_count": null,
      "outputs": []
    },
    {
      "cell_type": "code",
      "source": [
        "from IPython.display import Image\n",
        "display(Image('aml_ea_acc.png', width=500))\n",
        "display(Image('aml_ea_ex.png', width=500))"
      ],
      "metadata": {
        "id": "yEtv9AS4rTZZ"
      },
      "execution_count": null,
      "outputs": []
    }
  ],
  "metadata": {
    "colab": {
      "provenance": [],
      "private_outputs": true
    },
    "kernelspec": {
      "display_name": "Python 3",
      "name": "python3"
    },
    "language_info": {
      "name": "python"
    },
    "accelerator": "GPU",
    "gpuClass": "standard"
  },
  "nbformat": 4,
  "nbformat_minor": 0
}